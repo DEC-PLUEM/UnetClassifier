{
 "cells": [
  {
   "cell_type": "code",
   "execution_count": 181,
   "id": "3d1ed8d2",
   "metadata": {},
   "outputs": [],
   "source": [
    "import os\n",
    "os.environ['CUDA_VISIBLE_DEVICES'] = \"7\"\n",
    "DEVICE = 'cuda'\n",
    "\n",
    "import torch.optim as optim\n",
    "import torch.nn.functional as F \n",
    "import numpy as np\n",
    "import pandas as pd\n",
    "import torch.nn as nn\n",
    "import matplotlib.pyplot as plt\n",
    "\n",
    "def history_plot(train,val,metric):\n",
    "    \n",
    "    plt.figure(figsize=(12, 6))\n",
    "    plt.plot(train)\n",
    "    plt.plot(val)\n",
    "    plt.title('log')\n",
    "    plt.ylabel(metric)\n",
    "    plt.xlabel('epoch')\n",
    "    plt.legend(['train', 'validate'], loc='upper left')\n",
    "    plt.show()\n",
    "    \n",
    "# เพิ่ม . \n",
    "def add_dot(df):\n",
    "    cols = ['filename','mask_filename']\n",
    "    for i in cols :\n",
    "        #df[i] = df[i].apply(lambda x: '.' + x[1:])\n",
    "        df[i] = df[i].str.replace('./dataset', '../dataset')\n",
    "    return df\n",
    "\n",
    "def encoder_class(dataframe):\n",
    "    \n",
    "    encoder = {'benign':1, 'malignant':2, 'normal':0}\n",
    "    dataframe['class'] = [encoder[i] for i in dataframe['category']]\n",
    "    \n",
    "    return dataframe"
   ]
  },
  {
   "cell_type": "code",
   "execution_count": 2,
   "id": "fd0628d9",
   "metadata": {},
   "outputs": [
    {
     "name": "stdout",
     "output_type": "stream",
     "text": [
      "category\n",
      "benign       845\n",
      "malignant    845\n",
      "normal       845\n",
      "Name: count, dtype: int64\n",
      "class\n",
      "1    845\n",
      "2    845\n",
      "0    845\n",
      "Name: count, dtype: int64\n",
      "category\n",
      "benign       121\n",
      "malignant    121\n",
      "normal       121\n",
      "Name: count, dtype: int64\n",
      "class\n",
      "1    121\n",
      "2    121\n",
      "0    121\n",
      "Name: count, dtype: int64\n"
     ]
    }
   ],
   "source": [
    "train_path = '../dataset/unet/dataset-train-augment.csv'\n",
    "train_df = pd.read_csv(train_path)\n",
    "train_df = add_dot(train_df)\n",
    "\n",
    "val_path = '../dataset/unet/dataset-validate-augment.csv'\n",
    "val_df = pd.read_csv(val_path)\n",
    "val_df = add_dot(val_df)\n",
    "\n",
    "test_path = '../dataset/unet/dataset-test-augment.csv'\n",
    "test_df = pd.read_csv(test_path)\n",
    "test_df = add_dot(test_df)\n",
    "\n",
    "train_df = encoder_class(train_df)\n",
    "val_df = encoder_class(val_df)\n",
    "\n",
    "print(train_df['category'].value_counts())\n",
    "print(train_df['class'].value_counts())\n",
    "print(val_df['category'].value_counts())\n",
    "print(val_df['class'].value_counts())"
   ]
  },
  {
   "cell_type": "code",
   "execution_count": 3,
   "id": "ff1dba96",
   "metadata": {},
   "outputs": [],
   "source": [
    "# prepare loss and dataset\n",
    "import DataLoad \n",
    "train_loader = DataLoad.get_data(train_df,16)\n",
    "val_loader = DataLoad.get_data(val_df,16)\n",
    "loss_func = nn.CrossEntropyLoss()"
   ]
  },
  {
   "cell_type": "code",
   "execution_count": 4,
   "id": "06e80335",
   "metadata": {
    "scrolled": true
   },
   "outputs": [
    {
     "name": "stderr",
     "output_type": "stream",
     "text": [
      "Epoch [0/100]: 100%|██████████| 159/159 [00:19<00:00,  8.30it/s, loss=1.03] \n"
     ]
    },
    {
     "name": "stdout",
     "output_type": "stream",
     "text": [
      "Model saved!\n",
      "Epoch 1/100 => Train Loss: 1.0385,\n",
      "Validation Loss: 1.0375 , Validate Accuracy 0.7521 \n",
      "------------------------------------------------------------------------------------------\n"
     ]
    },
    {
     "name": "stderr",
     "output_type": "stream",
     "text": [
      "Epoch [1/100]: 100%|██████████| 159/159 [00:19<00:00,  8.27it/s, loss=0.924]\n"
     ]
    },
    {
     "name": "stdout",
     "output_type": "stream",
     "text": [
      "Model saved!\n",
      "Epoch 2/100 => Train Loss: 0.9817,\n",
      "Validation Loss: 1.0215 , Validate Accuracy 0.7796 \n",
      "------------------------------------------------------------------------------------------\n"
     ]
    },
    {
     "name": "stderr",
     "output_type": "stream",
     "text": [
      "Epoch [2/100]: 100%|██████████| 159/159 [00:19<00:00,  8.35it/s, loss=0.968]\n"
     ]
    },
    {
     "name": "stdout",
     "output_type": "stream",
     "text": [
      "Epoch 3/100 => Train Loss: 0.9549,\n",
      "Validation Loss: 0.9748 , Validate Accuracy 0.7769 \n",
      "------------------------------------------------------------------------------------------\n"
     ]
    },
    {
     "name": "stderr",
     "output_type": "stream",
     "text": [
      "Epoch [3/100]: 100%|██████████| 159/159 [00:19<00:00,  8.27it/s, loss=0.952]\n"
     ]
    },
    {
     "name": "stdout",
     "output_type": "stream",
     "text": [
      "Model saved!\n",
      "Epoch 4/100 => Train Loss: 0.9373,\n",
      "Validation Loss: 0.8463 , Validate Accuracy 0.8072 \n",
      "------------------------------------------------------------------------------------------\n"
     ]
    },
    {
     "name": "stderr",
     "output_type": "stream",
     "text": [
      "Epoch [4/100]: 100%|██████████| 159/159 [00:18<00:00,  8.42it/s, loss=0.852]\n"
     ]
    },
    {
     "name": "stdout",
     "output_type": "stream",
     "text": [
      "Model saved!\n",
      "Epoch 5/100 => Train Loss: 0.9244,\n",
      "Validation Loss: 0.8911 , Validate Accuracy 0.8237 \n",
      "------------------------------------------------------------------------------------------\n"
     ]
    },
    {
     "name": "stderr",
     "output_type": "stream",
     "text": [
      "Epoch [5/100]: 100%|██████████| 159/159 [00:18<00:00,  8.37it/s, loss=0.799]\n"
     ]
    },
    {
     "name": "stdout",
     "output_type": "stream",
     "text": [
      "Model saved!\n",
      "Epoch 6/100 => Train Loss: 0.9147,\n",
      "Validation Loss: 0.8635 , Validate Accuracy 0.8402 \n",
      "------------------------------------------------------------------------------------------\n"
     ]
    },
    {
     "name": "stderr",
     "output_type": "stream",
     "text": [
      "Epoch [6/100]: 100%|██████████| 159/159 [00:18<00:00,  8.37it/s, loss=0.882]\n"
     ]
    },
    {
     "name": "stdout",
     "output_type": "stream",
     "text": [
      "Model saved!\n",
      "Epoch 7/100 => Train Loss: 0.9075,\n",
      "Validation Loss: 0.9396 , Validate Accuracy 0.8485 \n",
      "------------------------------------------------------------------------------------------\n"
     ]
    },
    {
     "name": "stderr",
     "output_type": "stream",
     "text": [
      "Epoch [7/100]: 100%|██████████| 159/159 [00:19<00:00,  8.32it/s, loss=1.02] \n"
     ]
    },
    {
     "name": "stdout",
     "output_type": "stream",
     "text": [
      "Epoch 8/100 => Train Loss: 0.9019,\n",
      "Validation Loss: 0.9275 , Validate Accuracy 0.8457 \n",
      "------------------------------------------------------------------------------------------\n"
     ]
    },
    {
     "name": "stderr",
     "output_type": "stream",
     "text": [
      "Epoch [8/100]: 100%|██████████| 159/159 [00:19<00:00,  8.37it/s, loss=0.802]\n"
     ]
    },
    {
     "name": "stdout",
     "output_type": "stream",
     "text": [
      "Epoch 9/100 => Train Loss: 0.8961,\n",
      "Validation Loss: 0.9513 , Validate Accuracy 0.8485 \n",
      "------------------------------------------------------------------------------------------\n"
     ]
    },
    {
     "name": "stderr",
     "output_type": "stream",
     "text": [
      "Epoch [9/100]: 100%|██████████| 159/159 [00:19<00:00,  8.35it/s, loss=0.799]\n"
     ]
    },
    {
     "name": "stdout",
     "output_type": "stream",
     "text": [
      "Model saved!\n",
      "Epoch 10/100 => Train Loss: 0.8918,\n",
      "Validation Loss: 0.7558 , Validate Accuracy 0.8567 \n",
      "------------------------------------------------------------------------------------------\n"
     ]
    },
    {
     "name": "stderr",
     "output_type": "stream",
     "text": [
      "Epoch [10/100]: 100%|██████████| 159/159 [00:18<00:00,  8.40it/s, loss=0.853]\n"
     ]
    },
    {
     "name": "stdout",
     "output_type": "stream",
     "text": [
      "Epoch 11/100 => Train Loss: 0.8882,\n",
      "Validation Loss: 0.8946 , Validate Accuracy 0.8567 \n",
      "------------------------------------------------------------------------------------------\n"
     ]
    },
    {
     "name": "stderr",
     "output_type": "stream",
     "text": [
      "Epoch [11/100]: 100%|██████████| 159/159 [00:19<00:00,  8.29it/s, loss=0.756]\n"
     ]
    },
    {
     "name": "stdout",
     "output_type": "stream",
     "text": [
      "Model saved!\n",
      "Epoch 12/100 => Train Loss: 0.8846,\n",
      "Validation Loss: 0.9435 , Validate Accuracy 0.8650 \n",
      "------------------------------------------------------------------------------------------\n"
     ]
    },
    {
     "name": "stderr",
     "output_type": "stream",
     "text": [
      "Epoch [12/100]: 100%|██████████| 159/159 [00:19<00:00,  8.27it/s, loss=0.816]\n"
     ]
    },
    {
     "name": "stdout",
     "output_type": "stream",
     "text": [
      "Model saved!\n",
      "Epoch 13/100 => Train Loss: 0.8818,\n",
      "Validation Loss: 0.8404 , Validate Accuracy 0.8705 \n",
      "------------------------------------------------------------------------------------------\n"
     ]
    },
    {
     "name": "stderr",
     "output_type": "stream",
     "text": [
      "Epoch [13/100]: 100%|██████████| 159/159 [00:19<00:00,  8.35it/s, loss=0.734]\n"
     ]
    },
    {
     "name": "stdout",
     "output_type": "stream",
     "text": [
      "Model saved!\n",
      "Epoch 14/100 => Train Loss: 0.8788,\n",
      "Validation Loss: 0.7703 , Validate Accuracy 0.8788 \n",
      "------------------------------------------------------------------------------------------\n"
     ]
    },
    {
     "name": "stderr",
     "output_type": "stream",
     "text": [
      "Epoch [14/100]: 100%|██████████| 159/159 [00:19<00:00,  8.24it/s, loss=0.767]\n"
     ]
    },
    {
     "name": "stdout",
     "output_type": "stream",
     "text": [
      "Epoch 15/100 => Train Loss: 0.8766,\n",
      "Validation Loss: 0.8619 , Validate Accuracy 0.8760 \n",
      "------------------------------------------------------------------------------------------\n"
     ]
    },
    {
     "name": "stderr",
     "output_type": "stream",
     "text": [
      "Epoch [15/100]: 100%|██████████| 159/159 [00:19<00:00,  8.31it/s, loss=1.02] \n"
     ]
    },
    {
     "name": "stdout",
     "output_type": "stream",
     "text": [
      "Epoch 16/100 => Train Loss: 0.8753,\n",
      "Validation Loss: 0.9080 , Validate Accuracy 0.8733 \n",
      "------------------------------------------------------------------------------------------\n"
     ]
    },
    {
     "name": "stderr",
     "output_type": "stream",
     "text": [
      "Epoch [16/100]: 100%|██████████| 159/159 [00:19<00:00,  8.28it/s, loss=0.918]\n"
     ]
    },
    {
     "name": "stdout",
     "output_type": "stream",
     "text": [
      "Epoch 17/100 => Train Loss: 0.8728,\n",
      "Validation Loss: 0.7745 , Validate Accuracy 0.8705 \n",
      "------------------------------------------------------------------------------------------\n"
     ]
    },
    {
     "name": "stderr",
     "output_type": "stream",
     "text": [
      "Epoch [17/100]: 100%|██████████| 159/159 [00:19<00:00,  8.29it/s, loss=0.878]\n"
     ]
    },
    {
     "name": "stdout",
     "output_type": "stream",
     "text": [
      "Epoch 18/100 => Train Loss: 0.8707,\n",
      "Validation Loss: 0.9163 , Validate Accuracy 0.8733 \n",
      "------------------------------------------------------------------------------------------\n"
     ]
    },
    {
     "name": "stderr",
     "output_type": "stream",
     "text": [
      "Epoch [18/100]: 100%|██████████| 159/159 [00:19<00:00,  8.29it/s, loss=0.888]\n"
     ]
    },
    {
     "name": "stdout",
     "output_type": "stream",
     "text": [
      "Epoch 19/100 => Train Loss: 0.8690,\n",
      "Validation Loss: 0.7959 , Validate Accuracy 0.8760 \n",
      "------------------------------------------------------------------------------------------\n"
     ]
    },
    {
     "name": "stderr",
     "output_type": "stream",
     "text": [
      "Epoch [19/100]: 100%|██████████| 159/159 [00:19<00:00,  8.35it/s, loss=0.888]\n"
     ]
    },
    {
     "name": "stdout",
     "output_type": "stream",
     "text": [
      "Epoch 20/100 => Train Loss: 0.8675,\n",
      "Validation Loss: 0.8582 , Validate Accuracy 0.8760 \n",
      "------------------------------------------------------------------------------------------\n"
     ]
    },
    {
     "name": "stderr",
     "output_type": "stream",
     "text": [
      "Epoch [20/100]: 100%|██████████| 159/159 [00:19<00:00,  8.32it/s, loss=0.958]\n"
     ]
    },
    {
     "name": "stdout",
     "output_type": "stream",
     "text": [
      "Epoch 21/100 => Train Loss: 0.8659,\n",
      "Validation Loss: 1.0413 , Validate Accuracy 0.8788 \n",
      "------------------------------------------------------------------------------------------\n"
     ]
    },
    {
     "name": "stderr",
     "output_type": "stream",
     "text": [
      "Epoch [21/100]: 100%|██████████| 159/159 [00:18<00:00,  8.43it/s, loss=0.997]\n"
     ]
    },
    {
     "name": "stdout",
     "output_type": "stream",
     "text": [
      "Epoch 22/100 => Train Loss: 0.8646,\n",
      "Validation Loss: 0.8701 , Validate Accuracy 0.8760 \n",
      "------------------------------------------------------------------------------------------\n"
     ]
    },
    {
     "name": "stderr",
     "output_type": "stream",
     "text": [
      "Epoch [22/100]: 100%|██████████| 159/159 [00:18<00:00,  8.37it/s, loss=0.745]\n"
     ]
    },
    {
     "name": "stdout",
     "output_type": "stream",
     "text": [
      "Epoch 23/100 => Train Loss: 0.8623,\n",
      "Validation Loss: 0.9113 , Validate Accuracy 0.8760 \n",
      "------------------------------------------------------------------------------------------\n"
     ]
    },
    {
     "name": "stderr",
     "output_type": "stream",
     "text": [
      "Epoch [23/100]: 100%|██████████| 159/159 [00:19<00:00,  8.36it/s, loss=0.888]\n"
     ]
    },
    {
     "name": "stdout",
     "output_type": "stream",
     "text": [
      "Model saved!\n",
      "Epoch 24/100 => Train Loss: 0.8614,\n",
      "Validation Loss: 0.9192 , Validate Accuracy 0.8815 \n",
      "------------------------------------------------------------------------------------------\n"
     ]
    },
    {
     "name": "stderr",
     "output_type": "stream",
     "text": [
      "Epoch [24/100]: 100%|██████████| 159/159 [00:19<00:00,  8.31it/s, loss=0.874]\n"
     ]
    },
    {
     "name": "stdout",
     "output_type": "stream",
     "text": [
      "Epoch 25/100 => Train Loss: 0.8601,\n",
      "Validation Loss: 0.8853 , Validate Accuracy 0.8733 \n",
      "------------------------------------------------------------------------------------------\n"
     ]
    },
    {
     "name": "stderr",
     "output_type": "stream",
     "text": [
      "Epoch [25/100]: 100%|██████████| 159/159 [00:19<00:00,  8.31it/s, loss=0.829]\n"
     ]
    },
    {
     "name": "stdout",
     "output_type": "stream",
     "text": [
      "Epoch 26/100 => Train Loss: 0.8586,\n",
      "Validation Loss: 0.8091 , Validate Accuracy 0.8788 \n",
      "------------------------------------------------------------------------------------------\n"
     ]
    },
    {
     "name": "stderr",
     "output_type": "stream",
     "text": [
      "Epoch [26/100]: 100%|██████████| 159/159 [00:18<00:00,  8.39it/s, loss=1.01] \n"
     ]
    },
    {
     "name": "stdout",
     "output_type": "stream",
     "text": [
      "Epoch 27/100 => Train Loss: 0.8581,\n",
      "Validation Loss: 0.8564 , Validate Accuracy 0.8815 \n",
      "------------------------------------------------------------------------------------------\n"
     ]
    },
    {
     "name": "stderr",
     "output_type": "stream",
     "text": [
      "Epoch [27/100]: 100%|██████████| 159/159 [00:19<00:00,  8.27it/s, loss=0.976]\n"
     ]
    },
    {
     "name": "stdout",
     "output_type": "stream",
     "text": [
      "Epoch 28/100 => Train Loss: 0.8569,\n",
      "Validation Loss: 0.8659 , Validate Accuracy 0.8788 \n",
      "------------------------------------------------------------------------------------------\n"
     ]
    },
    {
     "name": "stderr",
     "output_type": "stream",
     "text": [
      "Epoch [28/100]: 100%|██████████| 159/159 [00:19<00:00,  8.34it/s, loss=0.833]\n"
     ]
    },
    {
     "name": "stdout",
     "output_type": "stream",
     "text": [
      "Epoch 29/100 => Train Loss: 0.8553,\n",
      "Validation Loss: 0.6351 , Validate Accuracy 0.8788 \n",
      "------------------------------------------------------------------------------------------\n"
     ]
    },
    {
     "name": "stderr",
     "output_type": "stream",
     "text": [
      "Epoch [29/100]: 100%|██████████| 159/159 [00:19<00:00,  8.36it/s, loss=0.864]\n"
     ]
    },
    {
     "name": "stdout",
     "output_type": "stream",
     "text": [
      "Epoch 30/100 => Train Loss: 0.8544,\n",
      "Validation Loss: 0.7976 , Validate Accuracy 0.8788 \n",
      "------------------------------------------------------------------------------------------\n"
     ]
    },
    {
     "name": "stderr",
     "output_type": "stream",
     "text": [
      "Epoch [30/100]: 100%|██████████| 159/159 [00:19<00:00,  8.29it/s, loss=0.871]\n"
     ]
    },
    {
     "name": "stdout",
     "output_type": "stream",
     "text": [
      "Epoch 31/100 => Train Loss: 0.8535,\n",
      "Validation Loss: 0.8009 , Validate Accuracy 0.8760 \n",
      "------------------------------------------------------------------------------------------\n"
     ]
    },
    {
     "name": "stderr",
     "output_type": "stream",
     "text": [
      "Epoch [31/100]: 100%|██████████| 159/159 [00:19<00:00,  8.33it/s, loss=0.837]\n"
     ]
    },
    {
     "name": "stdout",
     "output_type": "stream",
     "text": [
      "Epoch 32/100 => Train Loss: 0.8524,\n",
      "Validation Loss: 0.9284 , Validate Accuracy 0.8788 \n",
      "------------------------------------------------------------------------------------------\n"
     ]
    },
    {
     "name": "stderr",
     "output_type": "stream",
     "text": [
      "Epoch [32/100]: 100%|██████████| 159/159 [00:19<00:00,  8.37it/s, loss=0.834]\n"
     ]
    },
    {
     "name": "stdout",
     "output_type": "stream",
     "text": [
      "Model saved!\n",
      "Epoch 33/100 => Train Loss: 0.8514,\n",
      "Validation Loss: 0.9535 , Validate Accuracy 0.8843 \n",
      "------------------------------------------------------------------------------------------\n"
     ]
    },
    {
     "name": "stderr",
     "output_type": "stream",
     "text": [
      "Epoch [33/100]: 100%|██████████| 159/159 [00:18<00:00,  8.41it/s, loss=0.935]\n"
     ]
    },
    {
     "name": "stdout",
     "output_type": "stream",
     "text": [
      "Epoch 34/100 => Train Loss: 0.8508,\n",
      "Validation Loss: 0.8114 , Validate Accuracy 0.8815 \n",
      "------------------------------------------------------------------------------------------\n"
     ]
    },
    {
     "name": "stderr",
     "output_type": "stream",
     "text": [
      "Epoch [34/100]: 100%|██████████| 159/159 [00:18<00:00,  8.39it/s, loss=1.01] \n"
     ]
    },
    {
     "name": "stdout",
     "output_type": "stream",
     "text": [
      "Epoch 35/100 => Train Loss: 0.8501,\n",
      "Validation Loss: 0.7607 , Validate Accuracy 0.8815 \n",
      "------------------------------------------------------------------------------------------\n"
     ]
    },
    {
     "name": "stderr",
     "output_type": "stream",
     "text": [
      "Epoch [35/100]: 100%|██████████| 159/159 [00:19<00:00,  8.34it/s, loss=0.823]\n"
     ]
    },
    {
     "name": "stdout",
     "output_type": "stream",
     "text": [
      "Epoch 36/100 => Train Loss: 0.8488,\n",
      "Validation Loss: 0.9004 , Validate Accuracy 0.8843 \n",
      "------------------------------------------------------------------------------------------\n"
     ]
    },
    {
     "name": "stderr",
     "output_type": "stream",
     "text": [
      "Epoch [36/100]: 100%|██████████| 159/159 [00:19<00:00,  8.31it/s, loss=0.825]\n"
     ]
    },
    {
     "name": "stdout",
     "output_type": "stream",
     "text": [
      "Epoch 37/100 => Train Loss: 0.8481,\n",
      "Validation Loss: 0.7305 , Validate Accuracy 0.8760 \n",
      "------------------------------------------------------------------------------------------\n"
     ]
    },
    {
     "name": "stderr",
     "output_type": "stream",
     "text": [
      "Epoch [37/100]: 100%|██████████| 159/159 [00:19<00:00,  8.36it/s, loss=0.9]  \n"
     ]
    },
    {
     "name": "stdout",
     "output_type": "stream",
     "text": [
      "Model saved!\n",
      "Epoch 38/100 => Train Loss: 0.8475,\n",
      "Validation Loss: 0.7850 , Validate Accuracy 0.8871 \n",
      "------------------------------------------------------------------------------------------\n"
     ]
    },
    {
     "name": "stderr",
     "output_type": "stream",
     "text": [
      "Epoch [38/100]: 100%|██████████| 159/159 [00:19<00:00,  8.32it/s, loss=0.95] \n"
     ]
    },
    {
     "name": "stdout",
     "output_type": "stream",
     "text": [
      "Epoch 39/100 => Train Loss: 0.8469,\n",
      "Validation Loss: 0.8854 , Validate Accuracy 0.8843 \n",
      "------------------------------------------------------------------------------------------\n"
     ]
    },
    {
     "name": "stderr",
     "output_type": "stream",
     "text": [
      "Epoch [39/100]: 100%|██████████| 159/159 [00:18<00:00,  8.57it/s, loss=0.875]\n"
     ]
    },
    {
     "name": "stdout",
     "output_type": "stream",
     "text": [
      "Epoch 40/100 => Train Loss: 0.8459,\n",
      "Validation Loss: 0.7949 , Validate Accuracy 0.8871 \n",
      "------------------------------------------------------------------------------------------\n"
     ]
    },
    {
     "name": "stderr",
     "output_type": "stream",
     "text": [
      "Epoch [40/100]: 100%|██████████| 159/159 [00:19<00:00,  8.30it/s, loss=0.663]\n"
     ]
    },
    {
     "name": "stdout",
     "output_type": "stream",
     "text": [
      "Epoch 41/100 => Train Loss: 0.8444,\n",
      "Validation Loss: 0.7442 , Validate Accuracy 0.8843 \n",
      "------------------------------------------------------------------------------------------\n"
     ]
    },
    {
     "name": "stderr",
     "output_type": "stream",
     "text": [
      "Epoch [41/100]: 100%|██████████| 159/159 [00:19<00:00,  8.34it/s, loss=0.788]\n"
     ]
    },
    {
     "name": "stdout",
     "output_type": "stream",
     "text": [
      "Model saved!\n",
      "Epoch 42/100 => Train Loss: 0.8441,\n",
      "Validation Loss: 0.9021 , Validate Accuracy 0.8898 \n",
      "------------------------------------------------------------------------------------------\n"
     ]
    },
    {
     "name": "stderr",
     "output_type": "stream",
     "text": [
      "Epoch [42/100]: 100%|██████████| 159/159 [00:19<00:00,  8.31it/s, loss=0.823]\n"
     ]
    },
    {
     "name": "stdout",
     "output_type": "stream",
     "text": [
      "Epoch 43/100 => Train Loss: 0.8436,\n",
      "Validation Loss: 0.8544 , Validate Accuracy 0.8898 \n",
      "------------------------------------------------------------------------------------------\n"
     ]
    },
    {
     "name": "stderr",
     "output_type": "stream",
     "text": [
      "Epoch [43/100]: 100%|██████████| 159/159 [00:19<00:00,  8.27it/s, loss=1.01] \n"
     ]
    },
    {
     "name": "stdout",
     "output_type": "stream",
     "text": [
      "Model saved!\n",
      "Epoch 44/100 => Train Loss: 0.8437,\n",
      "Validation Loss: 0.8771 , Validate Accuracy 0.8953 \n",
      "------------------------------------------------------------------------------------------\n"
     ]
    },
    {
     "name": "stderr",
     "output_type": "stream",
     "text": [
      "Epoch [44/100]: 100%|██████████| 159/159 [00:18<00:00,  8.38it/s, loss=0.712]\n"
     ]
    },
    {
     "name": "stdout",
     "output_type": "stream",
     "text": [
      "Epoch 45/100 => Train Loss: 0.8419,\n",
      "Validation Loss: 0.8250 , Validate Accuracy 0.8898 \n",
      "------------------------------------------------------------------------------------------\n"
     ]
    },
    {
     "name": "stderr",
     "output_type": "stream",
     "text": [
      "Epoch [45/100]: 100%|██████████| 159/159 [00:19<00:00,  8.27it/s, loss=0.842]\n"
     ]
    },
    {
     "name": "stdout",
     "output_type": "stream",
     "text": [
      "Epoch 46/100 => Train Loss: 0.8417,\n",
      "Validation Loss: 1.0350 , Validate Accuracy 0.8898 \n",
      "------------------------------------------------------------------------------------------\n"
     ]
    },
    {
     "name": "stderr",
     "output_type": "stream",
     "text": [
      "Epoch [46/100]: 100%|██████████| 159/159 [00:19<00:00,  8.34it/s, loss=0.842]\n"
     ]
    },
    {
     "name": "stdout",
     "output_type": "stream",
     "text": [
      "Epoch 47/100 => Train Loss: 0.8412,\n",
      "Validation Loss: 0.8783 , Validate Accuracy 0.8926 \n",
      "------------------------------------------------------------------------------------------\n"
     ]
    },
    {
     "name": "stderr",
     "output_type": "stream",
     "text": [
      "Epoch [47/100]: 100%|██████████| 159/159 [00:19<00:00,  8.35it/s, loss=0.68] \n"
     ]
    },
    {
     "name": "stdout",
     "output_type": "stream",
     "text": [
      "Epoch 48/100 => Train Loss: 0.8400,\n",
      "Validation Loss: 0.7958 , Validate Accuracy 0.8815 \n",
      "------------------------------------------------------------------------------------------\n"
     ]
    },
    {
     "name": "stderr",
     "output_type": "stream",
     "text": [
      "Epoch [48/100]: 100%|██████████| 159/159 [00:18<00:00,  8.39it/s, loss=0.874]\n"
     ]
    },
    {
     "name": "stdout",
     "output_type": "stream",
     "text": [
      "Epoch 49/100 => Train Loss: 0.8401,\n",
      "Validation Loss: 0.9238 , Validate Accuracy 0.8898 \n",
      "------------------------------------------------------------------------------------------\n"
     ]
    },
    {
     "name": "stderr",
     "output_type": "stream",
     "text": [
      "Epoch [49/100]: 100%|██████████| 159/159 [00:18<00:00,  8.39it/s, loss=0.892]\n"
     ]
    },
    {
     "name": "stdout",
     "output_type": "stream",
     "text": [
      "Epoch 50/100 => Train Loss: 0.8395,\n",
      "Validation Loss: 0.8659 , Validate Accuracy 0.8871 \n",
      "------------------------------------------------------------------------------------------\n"
     ]
    },
    {
     "name": "stderr",
     "output_type": "stream",
     "text": [
      "Epoch [50/100]: 100%|██████████| 159/159 [00:19<00:00,  8.35it/s, loss=0.593]\n"
     ]
    },
    {
     "name": "stdout",
     "output_type": "stream",
     "text": [
      "Decrease decoder learning rate to 0.0001\n",
      "Epoch 51/100 => Train Loss: 0.8379,\n",
      "Validation Loss: 0.9344 , Validate Accuracy 0.8898 \n",
      "------------------------------------------------------------------------------------------\n"
     ]
    },
    {
     "name": "stderr",
     "output_type": "stream",
     "text": [
      "Epoch [51/100]: 100%|██████████| 159/159 [00:19<00:00,  8.34it/s, loss=0.713]\n"
     ]
    },
    {
     "name": "stdout",
     "output_type": "stream",
     "text": [
      "Epoch 52/100 => Train Loss: 0.8377,\n",
      "Validation Loss: 0.8718 , Validate Accuracy 0.8898 \n",
      "------------------------------------------------------------------------------------------\n"
     ]
    },
    {
     "name": "stderr",
     "output_type": "stream",
     "text": [
      "Epoch [52/100]: 100%|██████████| 159/159 [00:18<00:00,  8.41it/s, loss=0.937]\n"
     ]
    },
    {
     "name": "stdout",
     "output_type": "stream",
     "text": [
      "Epoch 53/100 => Train Loss: 0.8383,\n",
      "Validation Loss: 0.8546 , Validate Accuracy 0.8926 \n",
      "------------------------------------------------------------------------------------------\n"
     ]
    },
    {
     "name": "stderr",
     "output_type": "stream",
     "text": [
      "Epoch [53/100]: 100%|██████████| 159/159 [00:18<00:00,  8.58it/s, loss=0.785]\n"
     ]
    },
    {
     "name": "stdout",
     "output_type": "stream",
     "text": [
      "Epoch 54/100 => Train Loss: 0.8375,\n",
      "Validation Loss: 0.7097 , Validate Accuracy 0.8926 \n",
      "------------------------------------------------------------------------------------------\n"
     ]
    },
    {
     "name": "stderr",
     "output_type": "stream",
     "text": [
      "Epoch [54/100]: 100%|██████████| 159/159 [00:19<00:00,  8.35it/s, loss=0.707]\n"
     ]
    },
    {
     "name": "stdout",
     "output_type": "stream",
     "text": [
      "Epoch 55/100 => Train Loss: 0.8371,\n",
      "Validation Loss: 0.9063 , Validate Accuracy 0.8843 \n",
      "------------------------------------------------------------------------------------------\n"
     ]
    },
    {
     "name": "stderr",
     "output_type": "stream",
     "text": [
      "Epoch [55/100]: 100%|██████████| 159/159 [00:19<00:00,  8.28it/s, loss=0.809]\n"
     ]
    },
    {
     "name": "stdout",
     "output_type": "stream",
     "text": [
      "Epoch 56/100 => Train Loss: 0.8372,\n",
      "Validation Loss: 0.7764 , Validate Accuracy 0.8871 \n",
      "------------------------------------------------------------------------------------------\n"
     ]
    },
    {
     "name": "stderr",
     "output_type": "stream",
     "text": [
      "Epoch [56/100]: 100%|██████████| 159/159 [00:19<00:00,  8.35it/s, loss=1.02] \n"
     ]
    },
    {
     "name": "stdout",
     "output_type": "stream",
     "text": [
      "Epoch 57/100 => Train Loss: 0.8378,\n",
      "Validation Loss: 0.8126 , Validate Accuracy 0.8926 \n",
      "------------------------------------------------------------------------------------------\n"
     ]
    },
    {
     "name": "stderr",
     "output_type": "stream",
     "text": [
      "Epoch [57/100]: 100%|██████████| 159/159 [00:18<00:00,  8.43it/s, loss=0.78] \n"
     ]
    },
    {
     "name": "stdout",
     "output_type": "stream",
     "text": [
      "Epoch 58/100 => Train Loss: 0.8366,\n",
      "Validation Loss: 0.8891 , Validate Accuracy 0.8898 \n",
      "------------------------------------------------------------------------------------------\n"
     ]
    },
    {
     "name": "stderr",
     "output_type": "stream",
     "text": [
      "Epoch [58/100]: 100%|██████████| 159/159 [00:18<00:00,  8.37it/s, loss=0.763]\n"
     ]
    },
    {
     "name": "stdout",
     "output_type": "stream",
     "text": [
      "Epoch 59/100 => Train Loss: 0.8364,\n",
      "Validation Loss: 0.7300 , Validate Accuracy 0.8926 \n",
      "------------------------------------------------------------------------------------------\n"
     ]
    },
    {
     "name": "stderr",
     "output_type": "stream",
     "text": [
      "Epoch [59/100]: 100%|██████████| 159/159 [00:19<00:00,  8.32it/s, loss=0.76] \n"
     ]
    },
    {
     "name": "stdout",
     "output_type": "stream",
     "text": [
      "Epoch 60/100 => Train Loss: 0.8361,\n",
      "Validation Loss: 0.8491 , Validate Accuracy 0.8898 \n",
      "------------------------------------------------------------------------------------------\n"
     ]
    },
    {
     "name": "stderr",
     "output_type": "stream",
     "text": [
      "Epoch [60/100]: 100%|██████████| 159/159 [00:19<00:00,  8.34it/s, loss=0.802]\n"
     ]
    },
    {
     "name": "stdout",
     "output_type": "stream",
     "text": [
      "Epoch 61/100 => Train Loss: 0.8360,\n",
      "Validation Loss: 0.8970 , Validate Accuracy 0.8953 \n",
      "------------------------------------------------------------------------------------------\n"
     ]
    },
    {
     "name": "stderr",
     "output_type": "stream",
     "text": [
      "Epoch [61/100]: 100%|██████████| 159/159 [00:19<00:00,  8.29it/s, loss=0.964]\n"
     ]
    },
    {
     "name": "stdout",
     "output_type": "stream",
     "text": [
      "Epoch 62/100 => Train Loss: 0.8364,\n",
      "Validation Loss: 0.8204 , Validate Accuracy 0.8926 \n",
      "------------------------------------------------------------------------------------------\n"
     ]
    },
    {
     "name": "stderr",
     "output_type": "stream",
     "text": [
      "Epoch [62/100]: 100%|██████████| 159/159 [00:19<00:00,  8.32it/s, loss=0.931]\n"
     ]
    },
    {
     "name": "stdout",
     "output_type": "stream",
     "text": [
      "Epoch 63/100 => Train Loss: 0.8361,\n",
      "Validation Loss: 0.9877 , Validate Accuracy 0.8926 \n",
      "------------------------------------------------------------------------------------------\n"
     ]
    },
    {
     "name": "stderr",
     "output_type": "stream",
     "text": [
      "Epoch [63/100]: 100%|██████████| 159/159 [00:19<00:00,  8.36it/s, loss=0.983]\n"
     ]
    },
    {
     "name": "stdout",
     "output_type": "stream",
     "text": [
      "Epoch 64/100 => Train Loss: 0.8361,\n",
      "Validation Loss: 0.9459 , Validate Accuracy 0.8898 \n",
      "------------------------------------------------------------------------------------------\n"
     ]
    },
    {
     "name": "stderr",
     "output_type": "stream",
     "text": [
      "Epoch [64/100]: 100%|██████████| 159/159 [00:19<00:00,  8.35it/s, loss=0.874]\n"
     ]
    },
    {
     "name": "stdout",
     "output_type": "stream",
     "text": [
      "Epoch 65/100 => Train Loss: 0.8354,\n",
      "Validation Loss: 0.7673 , Validate Accuracy 0.8898 \n",
      "------------------------------------------------------------------------------------------\n"
     ]
    },
    {
     "name": "stderr",
     "output_type": "stream",
     "text": [
      "Epoch [65/100]: 100%|██████████| 159/159 [00:19<00:00,  8.32it/s, loss=0.86] \n"
     ]
    },
    {
     "name": "stdout",
     "output_type": "stream",
     "text": [
      "Epoch 66/100 => Train Loss: 0.8352,\n",
      "Validation Loss: 0.8658 , Validate Accuracy 0.8871 \n",
      "------------------------------------------------------------------------------------------\n"
     ]
    },
    {
     "name": "stderr",
     "output_type": "stream",
     "text": [
      "Epoch [66/100]: 100%|██████████| 159/159 [00:18<00:00,  8.40it/s, loss=0.828]\n"
     ]
    },
    {
     "name": "stdout",
     "output_type": "stream",
     "text": [
      "Epoch 67/100 => Train Loss: 0.8349,\n",
      "Validation Loss: 0.8604 , Validate Accuracy 0.8898 \n",
      "------------------------------------------------------------------------------------------\n"
     ]
    },
    {
     "name": "stderr",
     "output_type": "stream",
     "text": [
      "Epoch [67/100]: 100%|██████████| 159/159 [00:19<00:00,  8.35it/s, loss=0.957]\n"
     ]
    },
    {
     "name": "stdout",
     "output_type": "stream",
     "text": [
      "Epoch 68/100 => Train Loss: 0.8352,\n",
      "Validation Loss: 0.7864 , Validate Accuracy 0.8926 \n",
      "------------------------------------------------------------------------------------------\n"
     ]
    },
    {
     "name": "stderr",
     "output_type": "stream",
     "text": [
      "Epoch [68/100]: 100%|██████████| 159/159 [00:19<00:00,  8.32it/s, loss=0.908]\n"
     ]
    },
    {
     "name": "stdout",
     "output_type": "stream",
     "text": [
      "Epoch 69/100 => Train Loss: 0.8347,\n",
      "Validation Loss: 0.8182 , Validate Accuracy 0.8953 \n",
      "------------------------------------------------------------------------------------------\n"
     ]
    },
    {
     "name": "stderr",
     "output_type": "stream",
     "text": [
      "Epoch [69/100]: 100%|██████████| 159/159 [00:19<00:00,  8.36it/s, loss=0.755]\n"
     ]
    },
    {
     "name": "stdout",
     "output_type": "stream",
     "text": [
      "Epoch 70/100 => Train Loss: 0.8341,\n",
      "Validation Loss: 0.8458 , Validate Accuracy 0.8871 \n",
      "------------------------------------------------------------------------------------------\n"
     ]
    },
    {
     "name": "stderr",
     "output_type": "stream",
     "text": [
      "Epoch [70/100]: 100%|██████████| 159/159 [00:18<00:00,  8.40it/s, loss=0.887]\n"
     ]
    },
    {
     "name": "stdout",
     "output_type": "stream",
     "text": [
      "Epoch 71/100 => Train Loss: 0.8344,\n",
      "Validation Loss: 0.9159 , Validate Accuracy 0.8843 \n",
      "------------------------------------------------------------------------------------------\n"
     ]
    },
    {
     "name": "stderr",
     "output_type": "stream",
     "text": [
      "Epoch [71/100]: 100%|██████████| 159/159 [00:19<00:00,  8.31it/s, loss=0.755]\n"
     ]
    },
    {
     "name": "stdout",
     "output_type": "stream",
     "text": [
      "Epoch 72/100 => Train Loss: 0.8336,\n",
      "Validation Loss: 0.9042 , Validate Accuracy 0.8953 \n",
      "------------------------------------------------------------------------------------------\n"
     ]
    },
    {
     "name": "stderr",
     "output_type": "stream",
     "text": [
      "Epoch [72/100]: 100%|██████████| 159/159 [00:19<00:00,  8.35it/s, loss=0.74] \n"
     ]
    },
    {
     "name": "stdout",
     "output_type": "stream",
     "text": [
      "Epoch 73/100 => Train Loss: 0.8334,\n",
      "Validation Loss: 0.8383 , Validate Accuracy 0.8898 \n",
      "------------------------------------------------------------------------------------------\n"
     ]
    },
    {
     "name": "stderr",
     "output_type": "stream",
     "text": [
      "Epoch [73/100]: 100%|██████████| 159/159 [00:19<00:00,  8.29it/s, loss=0.86] \n"
     ]
    },
    {
     "name": "stdout",
     "output_type": "stream",
     "text": [
      "Epoch 74/100 => Train Loss: 0.8336,\n",
      "Validation Loss: 0.8972 , Validate Accuracy 0.8871 \n",
      "------------------------------------------------------------------------------------------\n"
     ]
    },
    {
     "name": "stderr",
     "output_type": "stream",
     "text": [
      "Epoch [74/100]: 100%|██████████| 159/159 [00:19<00:00,  8.35it/s, loss=0.815]\n"
     ]
    },
    {
     "name": "stdout",
     "output_type": "stream",
     "text": [
      "Epoch 75/100 => Train Loss: 0.8333,\n",
      "Validation Loss: 0.9211 , Validate Accuracy 0.8815 \n",
      "------------------------------------------------------------------------------------------\n"
     ]
    },
    {
     "name": "stderr",
     "output_type": "stream",
     "text": [
      "Epoch [75/100]: 100%|██████████| 159/159 [00:19<00:00,  8.37it/s, loss=0.821]\n"
     ]
    },
    {
     "name": "stdout",
     "output_type": "stream",
     "text": [
      "Epoch 76/100 => Train Loss: 0.8331,\n",
      "Validation Loss: 0.8466 , Validate Accuracy 0.8898 \n",
      "------------------------------------------------------------------------------------------\n"
     ]
    },
    {
     "name": "stderr",
     "output_type": "stream",
     "text": [
      "Epoch [76/100]: 100%|██████████| 159/159 [00:19<00:00,  8.30it/s, loss=1]    \n"
     ]
    },
    {
     "name": "stdout",
     "output_type": "stream",
     "text": [
      "Epoch 77/100 => Train Loss: 0.8336,\n",
      "Validation Loss: 0.7864 , Validate Accuracy 0.8871 \n",
      "------------------------------------------------------------------------------------------\n"
     ]
    },
    {
     "name": "stderr",
     "output_type": "stream",
     "text": [
      "Epoch [77/100]: 100%|██████████| 159/159 [00:19<00:00,  8.29it/s, loss=0.828]\n"
     ]
    },
    {
     "name": "stdout",
     "output_type": "stream",
     "text": [
      "Epoch 78/100 => Train Loss: 0.8327,\n",
      "Validation Loss: 0.8106 , Validate Accuracy 0.8871 \n",
      "------------------------------------------------------------------------------------------\n"
     ]
    },
    {
     "name": "stderr",
     "output_type": "stream",
     "text": [
      "Epoch [78/100]: 100%|██████████| 159/159 [00:19<00:00,  8.36it/s, loss=0.807]\n"
     ]
    },
    {
     "name": "stdout",
     "output_type": "stream",
     "text": [
      "Epoch 79/100 => Train Loss: 0.8324,\n",
      "Validation Loss: 0.8586 , Validate Accuracy 0.8926 \n",
      "------------------------------------------------------------------------------------------\n"
     ]
    },
    {
     "name": "stderr",
     "output_type": "stream",
     "text": [
      "Epoch [79/100]: 100%|██████████| 159/159 [00:19<00:00,  8.34it/s, loss=1.07] \n"
     ]
    },
    {
     "name": "stdout",
     "output_type": "stream",
     "text": [
      "Epoch 80/100 => Train Loss: 0.8332,\n",
      "Validation Loss: 0.8948 , Validate Accuracy 0.8953 \n",
      "------------------------------------------------------------------------------------------\n"
     ]
    },
    {
     "name": "stderr",
     "output_type": "stream",
     "text": [
      "Epoch [80/100]: 100%|██████████| 159/159 [00:18<00:00,  8.37it/s, loss=0.735]\n"
     ]
    },
    {
     "name": "stdout",
     "output_type": "stream",
     "text": [
      "Epoch 81/100 => Train Loss: 0.8318,\n",
      "Validation Loss: 0.8267 , Validate Accuracy 0.8953 \n",
      "------------------------------------------------------------------------------------------\n"
     ]
    },
    {
     "name": "stderr",
     "output_type": "stream",
     "text": [
      "Epoch [81/100]: 100%|██████████| 159/159 [00:19<00:00,  8.29it/s, loss=0.946]\n"
     ]
    },
    {
     "name": "stdout",
     "output_type": "stream",
     "text": [
      "Epoch 82/100 => Train Loss: 0.8324,\n",
      "Validation Loss: 0.8326 , Validate Accuracy 0.8898 \n",
      "------------------------------------------------------------------------------------------\n"
     ]
    },
    {
     "name": "stderr",
     "output_type": "stream",
     "text": [
      "Epoch [82/100]: 100%|██████████| 159/159 [00:19<00:00,  8.34it/s, loss=0.779]\n"
     ]
    },
    {
     "name": "stdout",
     "output_type": "stream",
     "text": [
      "Epoch 83/100 => Train Loss: 0.8315,\n",
      "Validation Loss: 0.9230 , Validate Accuracy 0.8871 \n",
      "------------------------------------------------------------------------------------------\n"
     ]
    },
    {
     "name": "stderr",
     "output_type": "stream",
     "text": [
      "Epoch [83/100]: 100%|██████████| 159/159 [00:19<00:00,  8.35it/s, loss=0.879]\n"
     ]
    },
    {
     "name": "stdout",
     "output_type": "stream",
     "text": [
      "Epoch 84/100 => Train Loss: 0.8317,\n",
      "Validation Loss: 0.8858 , Validate Accuracy 0.8898 \n",
      "------------------------------------------------------------------------------------------\n"
     ]
    },
    {
     "name": "stderr",
     "output_type": "stream",
     "text": [
      "Epoch [84/100]: 100%|██████████| 159/159 [00:19<00:00,  8.30it/s, loss=0.702]\n"
     ]
    },
    {
     "name": "stdout",
     "output_type": "stream",
     "text": [
      "Epoch 85/100 => Train Loss: 0.8309,\n",
      "Validation Loss: 0.8193 , Validate Accuracy 0.8926 \n",
      "------------------------------------------------------------------------------------------\n"
     ]
    },
    {
     "name": "stderr",
     "output_type": "stream",
     "text": [
      "Epoch [85/100]: 100%|██████████| 159/159 [00:19<00:00,  8.31it/s, loss=0.935]\n"
     ]
    },
    {
     "name": "stdout",
     "output_type": "stream",
     "text": [
      "Epoch 86/100 => Train Loss: 0.8316,\n",
      "Validation Loss: 0.7884 , Validate Accuracy 0.8953 \n",
      "------------------------------------------------------------------------------------------\n"
     ]
    },
    {
     "name": "stderr",
     "output_type": "stream",
     "text": [
      "Epoch [86/100]: 100%|██████████| 159/159 [00:19<00:00,  8.30it/s, loss=0.872]\n"
     ]
    },
    {
     "name": "stdout",
     "output_type": "stream",
     "text": [
      "Epoch 87/100 => Train Loss: 0.8311,\n",
      "Validation Loss: 0.6966 , Validate Accuracy 0.8926 \n",
      "------------------------------------------------------------------------------------------\n"
     ]
    },
    {
     "name": "stderr",
     "output_type": "stream",
     "text": [
      "Epoch [87/100]: 100%|██████████| 159/159 [00:19<00:00,  8.31it/s, loss=0.995]\n"
     ]
    },
    {
     "name": "stdout",
     "output_type": "stream",
     "text": [
      "Epoch 88/100 => Train Loss: 0.8314,\n",
      "Validation Loss: 0.8971 , Validate Accuracy 0.8926 \n",
      "------------------------------------------------------------------------------------------\n"
     ]
    },
    {
     "name": "stderr",
     "output_type": "stream",
     "text": [
      "Epoch [88/100]: 100%|██████████| 159/159 [00:19<00:00,  8.33it/s, loss=0.768]\n"
     ]
    },
    {
     "name": "stdout",
     "output_type": "stream",
     "text": [
      "Epoch 89/100 => Train Loss: 0.8304,\n",
      "Validation Loss: 0.8767 , Validate Accuracy 0.8898 \n",
      "------------------------------------------------------------------------------------------\n"
     ]
    },
    {
     "name": "stderr",
     "output_type": "stream",
     "text": [
      "Epoch [89/100]: 100%|██████████| 159/159 [00:19<00:00,  8.27it/s, loss=0.709]\n"
     ]
    },
    {
     "name": "stdout",
     "output_type": "stream",
     "text": [
      "Epoch 90/100 => Train Loss: 0.8300,\n",
      "Validation Loss: 0.8164 , Validate Accuracy 0.8953 \n",
      "------------------------------------------------------------------------------------------\n"
     ]
    },
    {
     "name": "stderr",
     "output_type": "stream",
     "text": [
      "Epoch [90/100]: 100%|██████████| 159/159 [00:19<00:00,  8.35it/s, loss=0.717]\n"
     ]
    },
    {
     "name": "stdout",
     "output_type": "stream",
     "text": [
      "Epoch 91/100 => Train Loss: 0.8299,\n",
      "Validation Loss: 0.8545 , Validate Accuracy 0.8953 \n",
      "------------------------------------------------------------------------------------------\n"
     ]
    },
    {
     "name": "stderr",
     "output_type": "stream",
     "text": [
      "Epoch [91/100]: 100%|██████████| 159/159 [00:19<00:00,  8.31it/s, loss=0.654]\n"
     ]
    },
    {
     "name": "stdout",
     "output_type": "stream",
     "text": [
      "Epoch 92/100 => Train Loss: 0.8295,\n",
      "Validation Loss: 0.8739 , Validate Accuracy 0.8898 \n",
      "------------------------------------------------------------------------------------------\n"
     ]
    },
    {
     "name": "stderr",
     "output_type": "stream",
     "text": [
      "Epoch [92/100]: 100%|██████████| 159/159 [00:19<00:00,  8.29it/s, loss=0.868]\n"
     ]
    },
    {
     "name": "stdout",
     "output_type": "stream",
     "text": [
      "Epoch 93/100 => Train Loss: 0.8301,\n",
      "Validation Loss: 0.9323 , Validate Accuracy 0.8953 \n",
      "------------------------------------------------------------------------------------------\n"
     ]
    },
    {
     "name": "stderr",
     "output_type": "stream",
     "text": [
      "Epoch [93/100]: 100%|██████████| 159/159 [00:19<00:00,  8.25it/s, loss=0.713]\n"
     ]
    },
    {
     "name": "stdout",
     "output_type": "stream",
     "text": [
      "Model saved!\n",
      "Epoch 94/100 => Train Loss: 0.8294,\n",
      "Validation Loss: 0.8302 , Validate Accuracy 0.8981 \n",
      "------------------------------------------------------------------------------------------\n"
     ]
    },
    {
     "name": "stderr",
     "output_type": "stream",
     "text": [
      "Epoch [94/100]: 100%|██████████| 159/159 [00:19<00:00,  8.35it/s, loss=0.83] \n"
     ]
    },
    {
     "name": "stdout",
     "output_type": "stream",
     "text": [
      "Epoch 95/100 => Train Loss: 0.8296,\n",
      "Validation Loss: 0.8155 , Validate Accuracy 0.8953 \n",
      "------------------------------------------------------------------------------------------\n"
     ]
    },
    {
     "name": "stderr",
     "output_type": "stream",
     "text": [
      "Epoch [95/100]: 100%|██████████| 159/159 [00:19<00:00,  8.36it/s, loss=0.835]\n"
     ]
    },
    {
     "name": "stdout",
     "output_type": "stream",
     "text": [
      "Model saved!\n",
      "Epoch 96/100 => Train Loss: 0.8295,\n",
      "Validation Loss: 0.8385 , Validate Accuracy 0.9008 \n",
      "------------------------------------------------------------------------------------------\n"
     ]
    },
    {
     "name": "stderr",
     "output_type": "stream",
     "text": [
      "Epoch [96/100]: 100%|██████████| 159/159 [00:19<00:00,  8.35it/s, loss=0.819]\n"
     ]
    },
    {
     "name": "stdout",
     "output_type": "stream",
     "text": [
      "Epoch 97/100 => Train Loss: 0.8292,\n",
      "Validation Loss: 0.9182 , Validate Accuracy 0.8953 \n",
      "------------------------------------------------------------------------------------------\n"
     ]
    },
    {
     "name": "stderr",
     "output_type": "stream",
     "text": [
      "Epoch [97/100]: 100%|██████████| 159/159 [00:19<00:00,  8.29it/s, loss=1.04] \n"
     ]
    },
    {
     "name": "stdout",
     "output_type": "stream",
     "text": [
      "Epoch 98/100 => Train Loss: 0.8298,\n",
      "Validation Loss: 0.7562 , Validate Accuracy 0.8953 \n",
      "------------------------------------------------------------------------------------------\n"
     ]
    },
    {
     "name": "stderr",
     "output_type": "stream",
     "text": [
      "Epoch [98/100]: 100%|██████████| 159/159 [00:19<00:00,  8.33it/s, loss=0.821]\n"
     ]
    },
    {
     "name": "stdout",
     "output_type": "stream",
     "text": [
      "Epoch 99/100 => Train Loss: 0.8289,\n",
      "Validation Loss: 0.7917 , Validate Accuracy 0.8953 \n",
      "------------------------------------------------------------------------------------------\n"
     ]
    },
    {
     "name": "stderr",
     "output_type": "stream",
     "text": [
      "Epoch [99/100]: 100%|██████████| 159/159 [00:19<00:00,  8.33it/s, loss=0.862]\n"
     ]
    },
    {
     "name": "stdout",
     "output_type": "stream",
     "text": [
      "Epoch 100/100 => Train Loss: 0.8289,\n",
      "Validation Loss: 0.8048 , Validate Accuracy 0.8953 \n",
      "------------------------------------------------------------------------------------------\n"
     ]
    }
   ],
   "source": [
    "from train import fit\n",
    "'''\n",
    "fit agr : trainloader , val_loader , loss_func , optimizer , num_epochs , model_save=False , update_lr=False\n",
    "\n",
    "'''\n",
    "model , loss_train , loss_val , loss_acc = fit(train_loader,val_loader, loss_func , 100 , 0.0000025 , model_save=True , update_lr=True)"
   ]
  },
  {
   "cell_type": "code",
   "execution_count": 174,
   "id": "e2f052d1",
   "metadata": {},
   "outputs": [
    {
     "data": {
      "image/png": "[encoded data removed]",
      "text/plain": [
       "<Figure size 1200x600 with 1 Axes>"
      ]
     },
     "metadata": {},
     "output_type": "display_data"
    },
    {
     "data": {
      "image/png": "[encoded data removed]",
      "text/plain": [
       "<Figure size 1200x600 with 1 Axes>"
      ]
     },
     "metadata": {},
     "output_type": "display_data"
    }
   ],
   "source": [
    "history_plot(loss_train,[loss_val[i].item() for i in range(len(loss_val))],'EntropyLoss')\n",
    "history_plot(loss_acc,loss_acc,'accuracy')"
   ]
  },
  {
   "cell_type": "markdown",
   "id": "1cea0c8f",
   "metadata": {},
   "source": [
    "# **Unet Classifier**"
   ]
  },
  {
   "cell_type": "code",
   "execution_count": 151,
   "id": "42b8bcee",
   "metadata": {},
   "outputs": [
    {
     "name": "stdout",
     "output_type": "stream",
     "text": [
      "test \n",
      "entropyloss:0.7203 | accuracy:0.8815 | f1-score:0.8812| precision:0.8828 | recall:0.8815 | auc:0.9120 \n"
     ]
    }
   ],
   "source": [
    "from sklearn.metrics import confusion_matrix\n",
    "from torcheval.metrics.functional import multiclass_f1_score\n",
    "from torcheval.metrics.functional import multiclass_auroc\n",
    "from torcheval.metrics.functional import multiclass_precision\n",
    "from torcheval.metrics.functional.classification import multiclass_recall\n",
    "from torcheval.metrics.functional import multiclass_accuracy\n",
    "from sklearn import metrics\n",
    "\n",
    "batch_size = 32\n",
    "\n",
    "test_loader = DataLoader(test_dataset, batch_size=batch_size, shuffle=False)\n",
    "\n",
    "num_class = 3\n",
    "total_samples = 0\n",
    "total_accuracy = 0  \n",
    "\n",
    "y_true = []\n",
    "y_pred = []\n",
    "\n",
    "for image, label in test_loader:\n",
    "        \n",
    "    image ,label = image.to(DEVICE) ,label.to(DEVICE)\n",
    "        \n",
    "    out = model(image)\n",
    "    loss = loss_func(out, label)\n",
    "    acc = accuracy(out, label)\n",
    "    output = (torch.max(torch.exp(out), 1)[1]).data.cpu().numpy()\n",
    "    \n",
    "    \n",
    "    labels = label.data.cpu().numpy()\n",
    "    \n",
    "    y_pred.extend(output) \n",
    "    y_true.extend(labels) \n",
    "    \n",
    "    total_samples += label.size(0)\n",
    "    total_accuracy += acc * label.size(0)\n",
    "\n",
    "overall_accuracy = total_accuracy / total_samples\n",
    "eva = {\"val_loss\": loss}\n",
    "\n",
    "\n",
    "fpr, tpr, thresholds = metrics.roc_curve(np.array(y_pred),np.array(y_true) , pos_label=2)\n",
    "auc = metrics.auc(fpr, tpr)\n",
    "\n",
    "y_pred = torch.tensor(y_pred)\n",
    "y_true = torch.tensor(y_true)\n",
    "\n",
    "acc = multiclass_accuracy(y_pred, y_true , average=\"macro\" , num_classes=num_class)\n",
    "f1 = multiclass_f1_score(y_pred, y_true , average=\"macro\" , num_classes=num_class)\n",
    "prec = multiclass_precision(y_pred, y_true , average=\"macro\", num_classes=num_class)\n",
    "recall = multiclass_recall(y_pred, y_true , average=\"macro\", num_classes=num_class)\n",
    "\n",
    "print(f\"test \\nentropyloss:{eva['val_loss']:.4f} | accuracy:{acc.item():.4f} | f1-score:{f1.item():.4f}\"\n",
    "      f\"| precision:{prec.item():.4f} | recall:{recall.item():.4f} | auc:{auc:.4f} \")"
   ]
  },
  {
   "cell_type": "code",
   "execution_count": 152,
   "id": "ba3bb1cc",
   "metadata": {},
   "outputs": [
    {
     "name": "stdout",
     "output_type": "stream",
     "text": [
      "[[237   3   2]\n",
      " [  4 211  27]\n",
      " [  3  47 192]]\n"
     ]
    },
    {
     "data": {
      "text/html": [
       "<div>\n",
       "<style scoped>\n",
       "    .dataframe tbody tr th:only-of-type {\n",
       "        vertical-align: middle;\n",
       "    }\n",
       "\n",
       "    .dataframe tbody tr th {\n",
       "        vertical-align: top;\n",
       "    }\n",
       "\n",
       "    .dataframe thead th {\n",
       "        text-align: right;\n",
       "    }\n",
       "</style>\n",
       "<table border=\"1\" class=\"dataframe\">\n",
       "  <thead>\n",
       "    <tr style=\"text-align: right;\">\n",
       "      <th></th>\n",
       "      <th>benign</th>\n",
       "      <th>malignant</th>\n",
       "      <th>normal</th>\n",
       "    </tr>\n",
       "  </thead>\n",
       "  <tbody>\n",
       "    <tr>\n",
       "      <th>benign</th>\n",
       "      <td>0.979339</td>\n",
       "      <td>0.012397</td>\n",
       "      <td>0.008264</td>\n",
       "    </tr>\n",
       "    <tr>\n",
       "      <th>malignant</th>\n",
       "      <td>0.016529</td>\n",
       "      <td>0.871901</td>\n",
       "      <td>0.111570</td>\n",
       "    </tr>\n",
       "    <tr>\n",
       "      <th>normal</th>\n",
       "      <td>0.012397</td>\n",
       "      <td>0.194215</td>\n",
       "      <td>0.793388</td>\n",
       "    </tr>\n",
       "  </tbody>\n",
       "</table>\n",
       "</div>"
      ],
      "text/plain": [
       "             benign  malignant    normal\n",
       "benign     0.979339   0.012397  0.008264\n",
       "malignant  0.016529   0.871901  0.111570\n",
       "normal     0.012397   0.194215  0.793388"
      ]
     },
     "execution_count": 152,
     "metadata": {},
     "output_type": "execute_result"
    }
   ],
   "source": [
    "class_map = {1:'benign', 2:'malignant', 0:'normal'}\n",
    "cf_matrix = confusion_matrix(y_true, y_pred)\n",
    "df_cm = pd.DataFrame(cf_matrix / np.sum(cf_matrix, axis=1)[:, None], index = [class_map[i] for i in class_map], # \n",
    "                     columns = [class_map[i] for i in class_map])\n",
    "print(cf_matrix)\n",
    "df_cm"
   ]
  },
  {
   "cell_type": "markdown",
   "id": "8693a62c",
   "metadata": {},
   "source": [
    "# **ResUnetClassifier**\n",
    "\n",
    "ref : https://github.com/Dont-HurtMe/RES-UnetClassifier.git"
   ]
  },
  {
   "cell_type": "code",
   "execution_count": 188,
   "id": "a2da08a6",
   "metadata": {},
   "outputs": [],
   "source": [
    "from torchvision import transforms\n",
    "from torch.utils.data import DataLoader\n",
    "from PIL import Image\n",
    "\n",
    "class CustomGenerator(torch.utils.data.Dataset):\n",
    "    \n",
    "    def __init__(self, dataframe, transform=None):\n",
    "        \n",
    "        self.dataframe = dataframe\n",
    "        self.transform = transform\n",
    "\n",
    "    def __len__(self):\n",
    "        \n",
    "        return len(self.dataframe)\n",
    "\n",
    "    def __getitem__(self, index):\n",
    "        \n",
    "        annotation = self.dataframe.iloc[index, 0]\n",
    "        image = Image.open(annotation).convert('RGB')\n",
    "        label = label = torch.tensor(int(self.dataframe.iloc[index, 3]))\n",
    "        \n",
    "        if self.transform:\n",
    "            image = self.transform(image)\n",
    "            \n",
    "        return (image,label)\n",
    "\n",
    "transform = transforms.Compose([\n",
    "    transforms.Resize((224, 224)),\n",
    "    transforms.ToTensor(),\n",
    "    transforms.Normalize((0.5, 0.5, 0.5), (0.5, 0.5, 0.5)),\n",
    "])\n",
    "\n",
    "test_dataset = CustomGenerator(test_df, transform=transform)\n",
    "\n",
    "# สร้าง DataLoader\n",
    "batch_size = 32\n",
    "test_loader = DataLoader(test_dataset, batch_size=batch_size, shuffle=False)"
   ]
  },
  {
   "cell_type": "code",
   "execution_count": 189,
   "id": "0307fa86",
   "metadata": {},
   "outputs": [],
   "source": [
    "classifier = torch.load('../example/Model/bestmodel-resnet50-classification.pth')"
   ]
  },
  {
   "cell_type": "code",
   "execution_count": 190,
   "id": "452878e3",
   "metadata": {},
   "outputs": [
    {
     "name": "stdout",
     "output_type": "stream",
     "text": [
      "test \n",
      "entropyloss:0.0282 | accuracy:0.9945 | f1-score:0.9945| precision:0.9945 | recall:0.9945 | auc:0.9908 \n"
     ]
    }
   ],
   "source": [
    "num_class = 3\n",
    "total_samples = 0\n",
    "total_accuracy = 0  \n",
    "\n",
    "y_true = []\n",
    "y_pred = []\n",
    "\n",
    "for image, label in test_loader:\n",
    "        \n",
    "    image ,label = image.to(DEVICE) ,label.to(DEVICE)\n",
    "        \n",
    "    out = classifier(image)\n",
    "    loss = loss_func(out, label)\n",
    "    acc = accuracy(out, label)\n",
    "    output = (torch.max(torch.exp(out), 1)[1]).data.cpu().numpy()\n",
    "    \n",
    "    \n",
    "    labels = label.data.cpu().numpy()\n",
    "    \n",
    "    y_pred.extend(output) \n",
    "    y_true.extend(labels) \n",
    "    \n",
    "    total_samples += label.size(0)\n",
    "    total_accuracy += acc * label.size(0)\n",
    "\n",
    "overall_accuracy = total_accuracy / total_samples\n",
    "eva = {\"val_loss\": loss}\n",
    "\n",
    "\n",
    "fpr, tpr, thresholds = metrics.roc_curve(np.array(y_pred),np.array(y_true) , pos_label=2)\n",
    "auc = metrics.auc(fpr, tpr)\n",
    "\n",
    "y_pred = torch.tensor(y_pred)\n",
    "y_true = torch.tensor(y_true)\n",
    "\n",
    "acc = multiclass_accuracy(y_pred, y_true , average=\"macro\" , num_classes=num_class)\n",
    "f1 = multiclass_f1_score(y_pred, y_true , average=\"macro\" , num_classes=num_class)\n",
    "prec = multiclass_precision(y_pred, y_true , average=\"macro\", num_classes=num_class)\n",
    "recall = multiclass_recall(y_pred, y_true , average=\"macro\", num_classes=num_class)\n",
    "\n",
    "print(f\"test \\nentropyloss:{eva['val_loss']:.4f} | accuracy:{acc.item():.4f} | f1-score:{f1.item():.4f}\"\n",
    "      f\"| precision:{prec.item():.4f} | recall:{recall.item():.4f} | auc:{auc:.4f} \")"
   ]
  },
  {
   "cell_type": "code",
   "execution_count": 191,
   "id": "6d2bce7f",
   "metadata": {},
   "outputs": [
    {
     "name": "stdout",
     "output_type": "stream",
     "text": [
      "[[238   1   3]\n",
      " [  0 242   0]\n",
      " [  0   0 242]]\n"
     ]
    },
    {
     "data": {
      "text/html": [
       "<div>\n",
       "<style scoped>\n",
       "    .dataframe tbody tr th:only-of-type {\n",
       "        vertical-align: middle;\n",
       "    }\n",
       "\n",
       "    .dataframe tbody tr th {\n",
       "        vertical-align: top;\n",
       "    }\n",
       "\n",
       "    .dataframe thead th {\n",
       "        text-align: right;\n",
       "    }\n",
       "</style>\n",
       "<table border=\"1\" class=\"dataframe\">\n",
       "  <thead>\n",
       "    <tr style=\"text-align: right;\">\n",
       "      <th></th>\n",
       "      <th>benign</th>\n",
       "      <th>malignant</th>\n",
       "      <th>normal</th>\n",
       "    </tr>\n",
       "  </thead>\n",
       "  <tbody>\n",
       "    <tr>\n",
       "      <th>benign</th>\n",
       "      <td>0.983471</td>\n",
       "      <td>0.004132</td>\n",
       "      <td>0.012397</td>\n",
       "    </tr>\n",
       "    <tr>\n",
       "      <th>malignant</th>\n",
       "      <td>0.000000</td>\n",
       "      <td>1.000000</td>\n",
       "      <td>0.000000</td>\n",
       "    </tr>\n",
       "    <tr>\n",
       "      <th>normal</th>\n",
       "      <td>0.000000</td>\n",
       "      <td>0.000000</td>\n",
       "      <td>1.000000</td>\n",
       "    </tr>\n",
       "  </tbody>\n",
       "</table>\n",
       "</div>"
      ],
      "text/plain": [
       "             benign  malignant    normal\n",
       "benign     0.983471   0.004132  0.012397\n",
       "malignant  0.000000   1.000000  0.000000\n",
       "normal     0.000000   0.000000  1.000000"
      ]
     },
     "execution_count": 191,
     "metadata": {},
     "output_type": "execute_result"
    }
   ],
   "source": [
    "class_map = {1:'benign', 2:'malignant', 0:'normal'}\n",
    "cf_matrix = confusion_matrix(y_true, y_pred)\n",
    "df_cm = pd.DataFrame(cf_matrix / np.sum(cf_matrix, axis=1)[:, None], index = [class_map[i] for i in class_map], # \n",
    "                     columns = [class_map[i] for i in class_map])\n",
    "print(cf_matrix)\n",
    "df_cm"
   ]
  }
 ],
 "metadata": {
  "kernelspec": {
   "display_name": "Python 3 (ipykernel)",
   "language": "python",
   "name": "python3"
  },
  "language_info": {
   "codemirror_mode": {
    "name": "ipython",
    "version": 3
   },
   "file_extension": ".py",
   "mimetype": "text/x-python",
   "name": "python",
   "nbconvert_exporter": "python",
   "pygments_lexer": "ipython3",
   "version": "3.8.10"
  }
 },
 "nbformat": 4,
 "nbformat_minor": 5
}
